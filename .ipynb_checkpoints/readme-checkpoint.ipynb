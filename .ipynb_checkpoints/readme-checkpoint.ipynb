{
 "cells": [
  {
   "cell_type": "markdown",
   "metadata": {},
   "source": [
    "# Well Fargo competition\n",
    "## [Campus Analytics Challenge: Live Green and Live Happy](https://www.mindsumo.com/contests/campus-analytics-challenge-2018?&utm_campaign=send_drip_email&utm_source=mindsumo&utm_medium=email)\n",
    "\n",
    "![alt](img/APPS.png)\n",
    "\n",
    "\n",
    "Promoting environmental sustainability is one of priorities of Wells Fargo. The goal is to make a low-carbon economy society. For achieving this goal, it is needed to adjust individuals' actions to reduce the carbon produced by individuals. This competition encourage students in campus using machine learning skills to help find the new balance between carbon footprint and quality of life. We want individuals adjust their daily activities to reduce the carcon footprint while keep their quality of life at the same time. \n",
    "\n",
    "Due to my interest in both environment issues and mahcine learning, I participate the competition and following are the data and analytics.\n",
    "\n",
    "\n",
    "* data_carbs.xlsx - The original file given by Well Fargo. It is easier to understand the data by this file.\n",
    "* data.csv - Individual's daily activities.\n",
    "* carbMap - The carbon footprint for each activities.\n",
    "* dataExplore.ipynb - Explore the data.\n",
    "* solution.ipynb - Use machine learning skills to find the new balance between carbons reduction and quality of life.\n"
   ]
  }
 ],
 "metadata": {
  "kernelspec": {
   "display_name": "Python 3",
   "language": "python",
   "name": "python3"
  },
  "language_info": {
   "codemirror_mode": {
    "name": "ipython",
    "version": 3
   },
   "file_extension": ".py",
   "mimetype": "text/x-python",
   "name": "python",
   "nbconvert_exporter": "python",
   "pygments_lexer": "ipython3",
   "version": "3.6.6"
  }
 },
 "nbformat": 4,
 "nbformat_minor": 2
}
